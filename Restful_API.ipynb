{
  "nbformat": 4,
  "nbformat_minor": 0,
  "metadata": {
    "colab": {
      "provenance": []
    },
    "kernelspec": {
      "name": "python3",
      "display_name": "Python 3"
    },
    "language_info": {
      "name": "python"
    }
  },
  "cells": [
    {
      "cell_type": "markdown",
      "source": [
        "** Restful API & Flask Theory Questions **"
      ],
      "metadata": {
        "id": "kK-YCA7t3p5L"
      }
    },
    {
      "cell_type": "markdown",
      "source": [
        "Q.1. What is a RESTFUL API?\n",
        "\n",
        "==> A RESTful API (Representational State Transfer API) is an application programming interface that follows the principles of REST architecture, which is a standard way of designing networked applications using HTTP."
      ],
      "metadata": {
        "id": "ndshZzF7nTEe"
      }
    },
    {
      "cell_type": "markdown",
      "source": [
        "Q.2. Explain the concept of API specification.\n",
        "\n",
        "==> An API specification is a detailed blueprint or contract that describes how an API works — including what endpoints are available, what data is required, what responses will be returned, and how to handle errors.\n",
        "\n",
        "It defines how clients should interact with the API, what they can expect, and how developers should build or integrate with it."
      ],
      "metadata": {
        "id": "1F9Cl-kMnKQR"
      }
    },
    {
      "cell_type": "markdown",
      "source": [
        "Q.3. What is Flask, and why is it popular for building APIs?\n",
        "\n",
        "==> Flask is a lightweight web framework written in Python. It is designed to make getting started quick and easy, with the ability to scale up to complex applications.\n",
        "\n",
        "Flask is Popular for Building APIs:\n",
        "1. Lightweight and Minimalistic\n",
        "2. Simple and Easy to Learn\n",
        "3. Flexible\n",
        "4. Integrated Development Server\n",
        "5. Large Ecosystem of Extensions\n",
        "6. Great for REST APIs\n",
        "7. Strong Community and Documentation"
      ],
      "metadata": {
        "id": "5gcOvUoQnQBi"
      }
    },
    {
      "cell_type": "markdown",
      "source": [
        "Q.4. What is routing in Flask?\n",
        "\n",
        "==> Routing in Flask is the process of mapping URLs (web addresses) to specific functions in your Python code. These functions are known as view functions or route handlers and are responsible for processing the request and returning a response."
      ],
      "metadata": {
        "id": "F711CA2GnYV0"
      }
    },
    {
      "cell_type": "markdown",
      "source": [
        "Q.5. How do you create a simple Flask application?\n",
        "\n",
        "==> Creating a simple Flask application involves a few easy steps.\n",
        "\n",
        "Step 1: Install Flask\n",
        "pip install Flask\n",
        "\n",
        "Step 2: Create Your Flask App File\n",
        "from flask import Flask\n",
        "\n",
        "app = Flask(__name__)\n",
        "\n",
        "@app.route('/')\n",
        "def home():\n",
        "    return 'Hello, Flask! This is your first app.'\n",
        "\n",
        "if __name__ == '__main__':\n",
        "    app.run(debug=True)\n",
        "\n",
        "Step 3: Run the Flask Application\n",
        "python app.py\n",
        "By default, Flask runs on http://localhost:5000/.\n",
        "\n",
        "Step 4: Visit in Your Browser\n",
        "http://localhost:5000/"
      ],
      "metadata": {
        "id": "Wk5rz-ZDng7T"
      }
    },
    {
      "cell_type": "markdown",
      "source": [
        "Q.6. What are HTTP methods used in RESTFUL APIs?\n",
        "\n",
        "==>\n",
        "In RESTful APIs, HTTP methods define the type of operation the client wants to perform on the server's resource. These methods correspond to CRUD operations (Create, Read, Update, Delete).\n",
        "\n",
        "Common HTTP Methods in RESTful APIs are:\n",
        "GET\n",
        "POST\n",
        "PUT\n",
        "PATCH\n",
        "DELETE\n",
        "HEAD\n",
        "OPTIONS"
      ],
      "metadata": {
        "id": "5qZjUPBWnqti"
      }
    },
    {
      "cell_type": "markdown",
      "source": [
        "Q.7. What is the purpose of the @app.route() decorator in Flask?\n",
        "\n",
        "==> The @app.route() decorator in Flask is used to define a route, i.e., to associate a URL path with a specific function (called a view function) that runs when a user visits that URL."
      ],
      "metadata": {
        "id": "LFLGy1qVn9HQ"
      }
    },
    {
      "cell_type": "markdown",
      "source": [
        "Q.8. What is the difference between GET and POST HTTP methods?\n",
        "\n",
        "==> GET: For reading/fetching data. Fast and visible in the URL.\n",
        "POST: For submitting/sending data. Safer and better for large or sensitive content."
      ],
      "metadata": {
        "id": "MrDi6PGioExY"
      }
    },
    {
      "cell_type": "markdown",
      "source": [
        "Q.9. How do you handle errors in Flask APIs?\n",
        "\n",
        "==> In Flask APIs, you handle errors using:\n",
        "\n",
        "1. HTTP status codes\n",
        "2. Custom error messages\n",
        "3. @app.errorhandler decorators\n",
        "4. Try-except blocks"
      ],
      "metadata": {
        "id": "84OA0tF-oNz9"
      }
    },
    {
      "cell_type": "markdown",
      "source": [
        "Q.10. How do you connect Flask to a SQL database?\n",
        "\n",
        "==> To connect Flask to a SQL database (like SQLite, MySQL, PostgreSQL), we typically use an ORM like SQLAlchemy, or directly use raw SQL with libraries like sqlite3."
      ],
      "metadata": {
        "id": "1AOOYoORoeBt"
      }
    },
    {
      "cell_type": "markdown",
      "source": [
        "Q.11. What is the role of Flask-SQLAlchemy?\n",
        "\n",
        "==> Flask-SQLAlchemy is an extension for Flask that integrates the powerful SQLAlchemy ORM (Object Relational Mapper) with your Flask application, making it easier to work with databases."
      ],
      "metadata": {
        "id": "QxziGsAAomu5"
      }
    },
    {
      "cell_type": "markdown",
      "source": [
        "Q.12. What are Flask Blueprints, and how are they useful?\n",
        "\n",
        "==> Flask Blueprints are a way to organize your Flask application into modular components or smaller app parts. Think of blueprints as mini Flask apps that group routes, templates, static files, and other code related to a specific feature or section of your app.\n",
        "\n",
        "How Blueprints Work\n",
        "1. You define routes and logic in a blueprint instead of directly in the main app.\n",
        "2. Later, you register these blueprints with the main Flask app.\n",
        "3. Flask treats each blueprint as a modular app section."
      ],
      "metadata": {
        "id": "kamoQ5zqovAM"
      }
    },
    {
      "cell_type": "markdown",
      "source": [
        "Q.13. What is the purpose of Flask's request object?\n",
        "\n",
        "==> The request object in Flask represents all the incoming HTTP request data sent by the client (like a web browser or API client) when it accesses your Flask app.\n",
        "\n"
      ],
      "metadata": {
        "id": "hiD8bKQro2PP"
      }
    },
    {
      "cell_type": "markdown",
      "source": [
        "Q.14. How do you create a RESTFUL API endpoint using Flask?\n",
        "\n",
        "==> Creating a RESTful API endpoint in Flask involves defining a route that handles HTTP methods like GET, POST, PUT, DELETE, and returning responses (usually JSON)."
      ],
      "metadata": {
        "id": "N2gCYIPPpBPI"
      }
    },
    {
      "cell_type": "markdown",
      "source": [
        "Q.15. What is the purpose of Flask's jsonify() function?\n",
        "\n",
        "==> The jsonify() function in Flask is used to convert Python data structures (like dictionaries or lists) into a JSON-formatted HTTP response."
      ],
      "metadata": {
        "id": "UnGV-DqvpIxM"
      }
    },
    {
      "cell_type": "markdown",
      "source": [
        "Q.16. Explain Flask's url_for() function.\n",
        "\n",
        "==> url_for() is a helper function in Flask that generates URLs for your routes (endpoints) dynamically using the function name that handles the route, rather than hardcoding URLs as strings."
      ],
      "metadata": {
        "id": "iFzxATmmpStF"
      }
    },
    {
      "cell_type": "markdown",
      "source": [
        "Q.17. How does flask handle static files (CSS, JavaScript, etc.)?\n",
        "\n",
        "==> Flask has built-in support to serve static files like CSS, JavaScript, images, fonts, etc., which are files that don’t change dynamically and are sent directly to the client."
      ],
      "metadata": {
        "id": "ig1hzj8tphL5"
      }
    },
    {
      "cell_type": "markdown",
      "source": [
        "Q.18. What is an API specification, and how does it help in building a Flask API?\n",
        "\n",
        "==> An API Specification is a formal, structured document that defines how an API behaves, what endpoints it exposes, what requests it accepts, what responses it returns, and other details like authentication, data formats, error codes, etc.\n",
        "\n",
        "API Specification Typically Include.\n",
        "1. Endpoints (URLs) — The available API routes.\n",
        "2. HTTP Methods — GET, POST, PUT, DELETE, etc. for each endpoint.\n",
        "3. Request Parameters — Path variables, query params, headers, and body schema.\n",
        "4. Response Structure — Expected response status codes and data format.\n",
        "5. Authentication Requirements — How to authenticate or authorize.\n",
        "6. Error Responses — Possible error codes and messages."
      ],
      "metadata": {
        "id": "y_blMT-BpoSV"
      }
    },
    {
      "cell_type": "markdown",
      "source": [
        "Q.19. What are HTTP status codes, and why are they important in a Flask API?\n",
        "\n",
        "==> HTTP status codes are standardized three-digit numbers sent by the server in response to a client’s HTTP request. They indicate the result or outcome of that request.\n",
        "\n",
        "HTTP Status Codes Important in a Flask API.\n",
        "1. Communicate outcome : Tell the client whether the request succeeded, failed, or needs attention.\n",
        "2. Standardize responses : Clients understand status codes universally across APIs.\n",
        "3. Error handling\t: Help clients handle errors properly (e.g., retry, show message).\n",
        "4. Debugging & monitoring :\tHelp developers identify issues quickly based on codes.\n",
        "5. Control client behavior : Status codes like 401 Unauthorized trigger authentication flows."
      ],
      "metadata": {
        "id": "rjnBxN5wxypV"
      }
    },
    {
      "cell_type": "markdown",
      "source": [
        "Q.20. How do you handle POST requests in a Flask?\n",
        "\n",
        "==> Handling POST requests in Flask involves:\n",
        "\n",
        "1. Defining a route that accepts the POST method.\n",
        "2. Accessing data sent in the request body.\n",
        "3. Processing that data (e.g., saving to a database).\n",
        "4. Returning an appropriate response."
      ],
      "metadata": {
        "id": "YktiiK-Ox5Ef"
      }
    },
    {
      "cell_type": "markdown",
      "source": [
        "Q.21. How would you secure a Flask API?\n",
        "\n",
        "==> Securing a Flask API is essential to protect your data, users, and backend resources from unauthorized access and attacks. Here are some common strategies and best practices to secure a Flask API:\n",
        "\n",
        "1. Use HTTPS (SSL/TLS)\n",
        "2. Authentication & Authorization\n",
        "3. Input Validation and Sanitization\n",
        "4. Rate Limiting\n",
        "5. Use Secure Headers\n",
        "6. Handle Errors Gracefully\n",
        "7. Keep Secrets Safe\n",
        "8. Cross-Origin Resource Sharing (CORS)\n",
        "9. Keep Dependencies Updated\n",
        "10. Logging and Monitoring"
      ],
      "metadata": {
        "id": "jP_Na33kx__e"
      }
    },
    {
      "cell_type": "markdown",
      "source": [
        "Q.22. What is the significance of the Flask-RESTFUL extension?\n",
        "\n",
        "==> Flask-RESTful is an extension for Flask that simplifies building RESTful APIs by providing tools and abstractions on top of the basic Flask framework."
      ],
      "metadata": {
        "id": "ZwfUtwaMyPG6"
      }
    },
    {
      "cell_type": "markdown",
      "source": [
        "Q.23. What is the role of Flask's session object?\n",
        "\n",
        "==> Flask’s session object provides a way to store data specific to a user’s session across multiple requests. It allows your web app to remember information about a user while they navigate through different pages or API calls."
      ],
      "metadata": {
        "id": "FmuvLnKCKIiV"
      }
    },
    {
      "cell_type": "markdown",
      "source": [],
      "metadata": {
        "id": "hx_dPzYCyX2h"
      }
    },
    {
      "cell_type": "markdown",
      "source": [
        "********** RESTFUL API and FLask's Practical Questions **********"
      ],
      "metadata": {
        "id": "OpYeiN3zyZw_"
      }
    },
    {
      "cell_type": "markdown",
      "source": [
        "Q.1. How do you create a basic Flask application?"
      ],
      "metadata": {
        "id": "aqcIGCqRyfS1"
      }
    },
    {
      "cell_type": "code",
      "source": [
        "# Step 1: Install Flask\n",
        "pip install Flask\n",
        "\n",
        "# Step 2: Create a Python file (e.g., app.py)\n",
        "from flask import Flask\n",
        "\n",
        "app = Flask(__name__)  # Create a Flask app instance\n",
        "\n",
        "@app.route('/')  # Define route for the home page\n",
        "def home():\n",
        "    return \"Hello, Flask!\"\n",
        "\n",
        "if __name__ == '__main__':\n",
        "    app.run(debug=True)  # Run the app in debug mode for development\n",
        "\n",
        "# Step 3: Run your Flask app\n",
        "\n",
        "python app.py\n",
        "\n",
        "http://127.0.0.1:5000/\n",
        "Open this URL in your browser and you’ll see:\n",
        "\n",
        "Hello, Flask!"
      ],
      "metadata": {
        "id": "8oLC2V57yv1l"
      },
      "execution_count": null,
      "outputs": []
    },
    {
      "cell_type": "markdown",
      "source": [
        "Q.2. How do you serve static files like images or CSS in Flask?"
      ],
      "metadata": {
        "id": "8BXdEDBoywO7"
      }
    },
    {
      "cell_type": "code",
      "source": [
        "# Create a folder named `static` in your project directory\n",
        "\n",
        "/your-flask-app\n",
        "    /static\n",
        "        /css\n",
        "            style.css\n",
        "        /images\n",
        "            logo.png\n",
        "    app.py\n",
        "# Refer to static files in your HTML using url_for('static', filename='path/to/file')\n",
        "# Flask automatically maps /static URL path to your static folder.\n",
        "# Example Flask app with static files:\n",
        "\n",
        "# app.py\n",
        "\n",
        "from flask import Flask, render_template\n",
        "\n",
        "app = Flask(__name__)\n",
        "\n",
        "@app.route('/')\n",
        "def home():\n",
        "    return render_template('index.html')\n",
        "\n",
        "if __name__ == '__main__':\n",
        "    app.run(debug=True)\n",
        "\n",
        "# Create a folder named templates (where your HTML files go), and inside it create index.html:\n",
        "<!DOCTYPE html>\n",
        "<html>\n",
        "<head>\n",
        "    <title>Flask Static Files Example</title>\n",
        "    <!-- Link CSS file -->\n",
        "    <link rel=\"stylesheet\" href=\"{{ url_for('static', filename='css/style.css') }}\">\n",
        "</head>\n",
        "<body>\n",
        "    <h1>Welcome to Flask!</h1>\n",
        "    <!-- Show image -->\n",
        "    <img src=\"{{ url_for('static', filename='images/logo.png') }}\" alt=\"Logo\">\n",
        "</body>\n",
        "</html>\n",
        "\n",
        "# Create the static files\n",
        "\n",
        "# static/css/style.css:\n",
        "\n",
        "body {\n",
        "    background-color: #f0f0f0;\n",
        "    font-family: Arial, sans-serif;\n",
        "}\n",
        "h1 {\n",
        "    color: #333;\n",
        "}\n",
        "\n",
        "# Place any image (like logo.png) in static/images/\n",
        "\n",
        "---\n",
        "\n",
        "### Run your app\n",
        "python app.py\n",
        "\n",
        "\n",
        "# Open [http://127.0.0.1:5000/](http://127.0.0.1:5000/) in your browser.\n",
        "# You will see your styled page with the image loaded from the static folder.\n",
        "\n",
        "# Summary:\n",
        "\n",
        "# Put your static files inside a folder called static\n",
        "# Use `url_for('static', filename='path/to/file') inside your HTML or templates to link them\n",
        "# Flask serves these files automatically at /static/<filename>\n",
        "\n",
        "# Create a static folder, put CSS/images there, and reference them with url_for('static', filename=...) in your templates. Flask handles the rest!\n"
      ],
      "metadata": {
        "id": "ejqesOx1y8zM"
      },
      "execution_count": null,
      "outputs": []
    },
    {
      "cell_type": "markdown",
      "source": [
        "Q.3. How do you define different routes with different HTTP methods in Flask?"
      ],
      "metadata": {
        "id": "rF2SlhtNy_8a"
      }
    },
    {
      "cell_type": "code",
      "source": [
        "from flask import Flask, request\n",
        "\n",
        "app = Flask(__name__)\n",
        "\n",
        "@app.route('/example', methods=['GET', 'POST'])\n",
        "def example():\n",
        "    if request.method == 'GET':\n",
        "        return \"This is a GET request\"\n",
        "    elif request.method == 'POST':\n",
        "        data = request.get_json()\n",
        "        return f\"Received POST data: {data}\"\n",
        "\n",
        "if __name__ == '__main__':\n",
        "    app.run(debug=True)"
      ],
      "metadata": {
        "id": "7b-NwIZCzH5R"
      },
      "execution_count": null,
      "outputs": []
    },
    {
      "cell_type": "markdown",
      "source": [
        "Q.4. How do you render HTML templates in Flask?"
      ],
      "metadata": {
        "id": "5AuJM2PszIT0"
      }
    },
    {
      "cell_type": "code",
      "source": [
        "# Create a folder named templates in your project directory\n",
        "\n",
        "/your-flask-app\n",
        "    /templates\n",
        "        index.html\n",
        "    app.py\n",
        "\n",
        "# Create an HTML file inside templates\n",
        "\n",
        "# templates/index.html:\n",
        "\n",
        "<!DOCTYPE html>\n",
        "<html>\n",
        "<head>\n",
        "    <title>Flask Template Example</title>\n",
        "</head>\n",
        "<body>\n",
        "    <h1>Welcome, {{ name }}!</h1>\n",
        "</body>\n",
        "</html>\n",
        "\n",
        "# Use render_template() in your Flask app\n",
        "\n",
        "# app.py\n",
        "\n",
        "from flask import Flask, render_template\n",
        "\n",
        "app = Flask(__name__)\n",
        "\n",
        "@app.route('/')\n",
        "def home():\n",
        "    return render_template('index.html', name=\"ChatGPT User\")\n",
        "\n",
        "if __name__ == '__main__':\n",
        "    app.run(debug=True)"
      ],
      "metadata": {
        "id": "evIe0o-eza44"
      },
      "execution_count": null,
      "outputs": []
    },
    {
      "cell_type": "markdown",
      "source": [
        "Q.5. How can you generate URLs for routes in Flask using url_for?"
      ],
      "metadata": {
        "id": "vMKpNu8Hzdno"
      }
    },
    {
      "cell_type": "code",
      "source": [
        "from flask import Flask, url_for\n",
        "\n",
        "app = Flask(__name__)\n",
        "\n",
        "@app.route('/')\n",
        "def home():\n",
        "    return \"Home page\"\n",
        "\n",
        "@app.route('/user/<username>')\n",
        "def profile(username):\n",
        "    return f\"Profile page of {username}\"\n",
        "\n",
        "@app.route('/go-to-profile')\n",
        "def go_to_profile():\n",
        "    # Generate URL for 'profile' route with username='john'\n",
        "    profile_url = url_for('profile', username='john')\n",
        "    return f\"Go to profile page: {profile_url}\"\n",
        "\n",
        "if __name__ == '__main__':\n",
        "    app.run(debug=True)"
      ],
      "metadata": {
        "id": "oWgytMQRzmHz"
      },
      "execution_count": null,
      "outputs": []
    },
    {
      "cell_type": "markdown",
      "source": [
        "Q.6. How do you handle forms in Flask."
      ],
      "metadata": {
        "id": "uTB5m730zmlC"
      }
    },
    {
      "cell_type": "code",
      "source": [
        "# Create a form inside your HTML template that sends data via POST:\n",
        "\n",
        "<!-- templates/form.html -->\n",
        "<!DOCTYPE html>\n",
        "<html>\n",
        "<head>\n",
        "    <title>Flask Form Example</title>\n",
        "</head>\n",
        "<body>\n",
        "    <h2>Submit Your Name</h2>\n",
        "    <form method=\"POST\" action=\"/submit\">\n",
        "        <label for=\"name\">Name:</label>\n",
        "        <input type=\"text\" id=\"name\" name=\"name\" required>\n",
        "        <button type=\"submit\">Submit</button>\n",
        "    </form>\n",
        "</body>\n",
        "</html>\n",
        "\n",
        "# Create Flask routes to render and handle the form\n",
        "from flask import Flask, request, render_template\n",
        "\n",
        "app = Flask(__name__)\n",
        "\n",
        "@app.route('/form')\n",
        "def form():\n",
        "    return render_template('form.html')\n",
        "\n",
        "@app.route('/submit', methods=['POST'])\n",
        "def submit():\n",
        "    # Get form data using request.form\n",
        "    name = request.form.get('name')\n",
        "    return f\"Hello, {name}! Your form has been submitted.\"\n",
        "\n",
        "if __name__ == '__main__':\n",
        "    app.run(debug=True)"
      ],
      "metadata": {
        "id": "ENds2Y4I0Ejj"
      },
      "execution_count": null,
      "outputs": []
    },
    {
      "cell_type": "markdown",
      "source": [
        "Q.7. How can you validate form data is=n Flask?"
      ],
      "metadata": {
        "id": "v_WQ1smW0E4n"
      }
    },
    {
      "cell_type": "code",
      "source": [
        "from flask import Flask, request, render_template_string\n",
        "\n",
        "app = Flask(__name__)\n",
        "\n",
        "@app.route('/submit', methods=['POST'])\n",
        "def submit():\n",
        "    name = request.form.get('name', '').strip()\n",
        "    age = request.form.get('age', '').strip()\n",
        "\n",
        "    errors = []\n",
        "\n",
        "    if not name:\n",
        "        errors.append(\"Name is required.\")\n",
        "    if not age.isdigit() or int(age) <= 0:\n",
        "        errors.append(\"Age must be a positive number.\")\n",
        "\n",
        "    if errors:\n",
        "        return \"<br>\".join(errors), 400  # Return errors with 400 Bad Request\n",
        "    return f\"Hello {name}, age {age}!\"\n",
        "\n",
        "if __name__ == '__main__':\n",
        "    app.run(debug=True)\n"
      ],
      "metadata": {
        "id": "ZR5JPDbd0TuG"
      },
      "execution_count": null,
      "outputs": []
    },
    {
      "cell_type": "markdown",
      "source": [
        "Q.8. How do you manage sessions in Flask."
      ],
      "metadata": {
        "id": "vKadPVfZ0UBH"
      }
    },
    {
      "cell_type": "code",
      "source": [
        "# Set a secret key.\n",
        "from flask import Flask, session\n",
        "\n",
        "app = Flask(__name__)\n",
        "app.secret_key = 'your_secret_key_here'  # Keep this secret in production!\n",
        "\n",
        "# Store data in session\n",
        "@app.route('/login')\n",
        "def login():\n",
        "    session['username'] = 'nikunj'\n",
        "    return \"You are logged in!\"\n",
        "\n",
        "# Access data from session\n",
        "@app.route('/profile')\n",
        "def profile():\n",
        "    if 'username' in session:\n",
        "        return f\"Welcome, {session['username']}!\"\n",
        "    else:\n",
        "        return \"You are not logged in.\"\n",
        "\n",
        "# Remove data or clear session.\n",
        "session.pop('username', None)\n",
        "\n",
        "# Complete Example\n",
        "from flask import Flask, session, redirect, url_for\n",
        "\n",
        "app = Flask(__name__)\n",
        "app.secret_key = 'your_secret_key_here'\n",
        "\n",
        "@app.route('/login')\n",
        "def login():\n",
        "    session['username'] = 'chatgpt_user'\n",
        "    return \"Logged in!\"\n",
        "\n",
        "@app.route('/profile')\n",
        "def profile():\n",
        "    if 'username' in session:\n",
        "        return f\"Hello, {session['username']}!\"\n",
        "    else:\n",
        "        return redirect(url_for('login'))\n",
        "\n",
        "@app.route('/logout')\n",
        "def logout():\n",
        "    session.pop('username', None)\n",
        "    return \"Logged out!\"\n",
        "\n",
        "if __name__ == '__main__':\n",
        "    app.run(debug=True)\n"
      ],
      "metadata": {
        "id": "ZL1JvcqX0fsQ"
      },
      "execution_count": null,
      "outputs": []
    },
    {
      "cell_type": "markdown",
      "source": [
        "Q.9. How do you redirect to a diffrent route in Flask?"
      ],
      "metadata": {
        "id": "zgLjwipm0f-N"
      }
    },
    {
      "cell_type": "code",
      "source": [
        "from flask import Flask, redirect, url_for\n",
        "\n",
        "app = Flask(__name__)\n",
        "\n",
        "@app.route('/')\n",
        "def home():\n",
        "    return \"This is the home page.\"\n",
        "\n",
        "@app.route('/go-to-home')\n",
        "def go_to_home():\n",
        "    # Redirect user to the 'home' route\n",
        "    return redirect(url_for('home'))\n",
        "\n",
        "if __name__ == '__main__':\n",
        "    app.run(debug=True)\n"
      ],
      "metadata": {
        "id": "GMTlfnM00teV"
      },
      "execution_count": null,
      "outputs": []
    },
    {
      "cell_type": "markdown",
      "source": [
        "Q.10. How do you handle eroors in Flask (e.g, 404)?"
      ],
      "metadata": {
        "id": "BhfDg7MS0tyB"
      }
    },
    {
      "cell_type": "code",
      "source": [
        "from flask import Flask, render_template\n",
        "\n",
        "app = Flask(__name__)\n",
        "\n",
        "@app.route('/')\n",
        "def home():\n",
        "    return \"Welcome to the homepage!\"\n",
        "\n",
        "# Custom 404 error handler\n",
        "@app.errorhandler(404)\n",
        "def page_not_found(e):\n",
        "    return render_template('404.html'), 404\n",
        "\n",
        "if __name__ == '__main__':\n",
        "    app.run(debug=True)"
      ],
      "metadata": {
        "id": "zHCYx9Xk036O"
      },
      "execution_count": null,
      "outputs": []
    },
    {
      "cell_type": "markdown",
      "source": [
        "Q.111. How do you structure a flask app using Blueprints?"
      ],
      "metadata": {
        "id": "d8MVCXWjZMoS"
      }
    },
    {
      "cell_type": "code",
      "source": [
        "# Project structure example\n",
        "my_flask_app/\n",
        "│\n",
        "├── app.py                # Main app setup and blueprint registration\n",
        "├── /blueprints/\n",
        "│     ├── __init__.py\n",
        "│     ├── auth.py         # Blueprint for authentication routes\n",
        "│     └── blog.py         # Blueprint for blog routes\n",
        "├── /templates/\n",
        "│     ├── auth/\n",
        "│     │    └── login.html\n",
        "│     └── blog/\n",
        "│          └── post.html\n",
        "└── /static/\n",
        "\n",
        "# Create Blueprints in separate files\n",
        "blueprints/auth.py\n",
        "\n",
        "from flask import Blueprint, render_template\n",
        "\n",
        "auth_bp = Blueprint('auth', __name__, url_prefix='/auth')\n",
        "\n",
        "@auth_bp.route('/login')\n",
        "def login():\n",
        "    return render_template('auth/login.html')\n",
        "blueprints/blog.py\n",
        "\n",
        "from flask import Blueprint, render_template\n",
        "\n",
        "blog_bp = Blueprint('blog', __name__, url_prefix='/blog')\n",
        "\n",
        "@blog_bp.route('/post/<int:id>')\n",
        "def post(id):\n",
        "    return render_template('blog/post.html', post_id=id)\n",
        "\n",
        "# Initialize and register Blueprints in app.py\n",
        "from flask import Flask\n",
        "from blueprints.auth import auth_bp\n",
        "from blueprints.blog import blog_bp\n",
        "\n",
        "app = Flask(__name__)\n",
        "\n",
        "# Register blueprints\n",
        "app.register_blueprint(auth_bp)\n",
        "app.register_blueprint(blog_bp)\n",
        "\n",
        "if __name__ == '__main__':\n",
        "    app.run(debug=True)"
      ],
      "metadata": {
        "id": "1Cg7ivJUZbW7"
      },
      "execution_count": null,
      "outputs": []
    },
    {
      "cell_type": "markdown",
      "source": [
        "Q.12. How do you define a custom Jinja filter in Flask?."
      ],
      "metadata": {
        "id": "PBgG_NCO09L_"
      }
    },
    {
      "cell_type": "code",
      "source": [
        "from flask import Flask, render_template\n",
        "\n",
        "app = Flask(__name__)\n",
        "\n",
        "# Define a custom filter\n",
        "def reverse_string(s):\n",
        "    return s[::-1]\n",
        "\n",
        "# Register the filter\n",
        "app.jinja_env.filters['reverse'] = reverse_string\n",
        "\n",
        "@app.route('/')\n",
        "def home():\n",
        "    name = \"Flask\"\n",
        "    return render_template('index.html', name=name)\n",
        "\n",
        "if __name__ == '__main__':\n",
        "    app.run(debug=True)"
      ],
      "metadata": {
        "id": "9nDWjfln1Fru"
      },
      "execution_count": null,
      "outputs": []
    },
    {
      "cell_type": "markdown",
      "source": [
        "Q.13. How can you redirect with query parameters in Flask?"
      ],
      "metadata": {
        "id": "RPLpnHsGZewr"
      }
    },
    {
      "cell_type": "code",
      "source": [
        "from flask import Flask, redirect, url_for, request\n",
        "\n",
        "app = Flask(__name__)\n",
        "\n",
        "@app.route('/start')\n",
        "def start():\n",
        "    # Redirect to 'hello' route with query params\n",
        "    return redirect(url_for('hello', name='John', age=25))\n",
        "\n",
        "@app.route('/hello')\n",
        "def hello():\n",
        "    name = request.args.get('name')\n",
        "    age = request.args.get('age')\n",
        "    return f\"Hello {name}, age {age}!\"\n",
        "\n",
        "if __name__ == '__main__':\n",
        "    app.run(debug=True)"
      ],
      "metadata": {
        "id": "JUhTrw-SZjSQ"
      },
      "execution_count": null,
      "outputs": []
    },
    {
      "cell_type": "markdown",
      "source": [
        "Q.14. How do you return JSON responses in Flask?"
      ],
      "metadata": {
        "id": "ivQOH6HQZmhx"
      }
    },
    {
      "cell_type": "code",
      "source": [
        "from flask import Flask, jsonify\n",
        "\n",
        "app = Flask(__name__)\n",
        "\n",
        "@app.route('/api/data')\n",
        "def get_data():\n",
        "    data = {\n",
        "        \"name\": \"John\",\n",
        "        \"age\": 30,\n",
        "        \"status\": \"active\"\n",
        "    }\n",
        "    return jsonify(data)\n",
        "\n",
        "if __name__ == '__main__':\n",
        "    app.run(debug=True)\n"
      ],
      "metadata": {
        "id": "1wBHsYh3Zsgm"
      },
      "execution_count": null,
      "outputs": []
    },
    {
      "cell_type": "markdown",
      "source": [
        "Q.15. How do you capture URL parameters in Flask?"
      ],
      "metadata": {
        "id": "NtrF6N3WZzDn"
      }
    },
    {
      "cell_type": "code",
      "source": [
        "from flask import Flask\n",
        "\n",
        "app = Flask(__name__)\n",
        "\n",
        "@app.route('/user/<username>')\n",
        "def show_user(username):\n",
        "    return f\"Hello, {username}!\"\n"
      ],
      "metadata": {
        "id": "L-JmFeFdZ40T"
      },
      "execution_count": null,
      "outputs": []
    }
  ]
}